{
 "cells": [
  {
   "cell_type": "code",
   "execution_count": 45,
   "metadata": {
    "collapsed": true
   },
   "outputs": [],
   "source": [
    "import pandas as pd\n",
    "import numpy as np\n",
    "from nltk.corpus import words\n",
    "from string import punctuation\n",
    "from nltk.corpus import stopwords\n",
    "from nltk.stem.snowball import SnowballStemmer"
   ]
  },
  {
   "cell_type": "code",
   "execution_count": 2,
   "outputs": [],
   "source": [
    "data = pd.read_csv(\"Data/output/22.15.11_CA_videos.csv\")"
   ],
   "metadata": {
    "collapsed": false
   }
  },
  {
   "cell_type": "code",
   "execution_count": 35,
   "outputs": [],
   "source": [
    "# title\n",
    "def remove_punc(col):\n",
    "    res = \"\".join([c for c in col if c not in punctuation])\n",
    "    return res\n",
    "\n",
    "data[\"clean_title\"] = data.title.str.lower()\n",
    "data[\"clean_title\"] = data[\"clean_title\"].apply(remove_punc)\n",
    "data[\"clean_title\"] = data.clean_title.str.split()"
   ],
   "metadata": {
    "collapsed": false
   }
  },
  {
   "cell_type": "code",
   "execution_count": 29,
   "outputs": [],
   "source": [
    "# tags\n",
    "tags = [t.split(\"|\") for t in data.tags]\n",
    "tags = [[w.strip() for w in t] for t in tags]\n",
    "data[\"clean_tags\"] = tags"
   ],
   "metadata": {
    "collapsed": false
   }
  },
  {
   "cell_type": "code",
   "execution_count": 49,
   "outputs": [],
   "source": [
    "# description\n",
    "stop, stemmer = stopwords.words('english'), SnowballStemmer(language = \"english\")\n",
    "data[\"clean_description\"] = data.description.str.lower()\n",
    "data[\"clean_description\"] = data[\"clean_description\"].apply(remove_punc)"
   ],
   "metadata": {
    "collapsed": false
   }
  },
  {
   "cell_type": "code",
   "execution_count": 51,
   "outputs": [],
   "source": [
    "desc = data.clean_description.copy()\n",
    "desc = [d.split() for d in desc]\n",
    "desc = [[w.strip() for w in d] for d in desc]\n",
    "desc = [[stemmer.stem(w) for w in d] for d in desc]\n",
    "desc = [[w for w in d if w in words.words()] for d in desc]\n",
    "desc = [[w for w in d if w not in stop] for d in desc]"
   ],
   "metadata": {
    "collapsed": false
   }
  },
  {
   "cell_type": "code",
   "execution_count": 53,
   "outputs": [],
   "source": [
    "data[\"clean_description\"] = desc"
   ],
   "metadata": {
    "collapsed": false
   }
  },
  {
   "cell_type": "code",
   "execution_count": 55,
   "outputs": [],
   "source": [
    "data.to_csv(\"data/clean/sample.csv\", index=False)"
   ],
   "metadata": {
    "collapsed": false
   }
  }
 ],
 "metadata": {
  "kernelspec": {
   "display_name": "Python 3",
   "language": "python",
   "name": "python3"
  },
  "language_info": {
   "codemirror_mode": {
    "name": "ipython",
    "version": 2
   },
   "file_extension": ".py",
   "mimetype": "text/x-python",
   "name": "python",
   "nbconvert_exporter": "python",
   "pygments_lexer": "ipython2",
   "version": "2.7.6"
  }
 },
 "nbformat": 4,
 "nbformat_minor": 0
}
